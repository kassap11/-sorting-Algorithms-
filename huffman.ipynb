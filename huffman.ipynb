{
 "cells": [
  {
   "cell_type": "code",
   "execution_count": null,
   "id": "691c1587-10e3-4025-9375-968bff2870dc",
   "metadata": {},
   "outputs": [],
   "source": []
  },
  {
   "cell_type": "code",
   "execution_count": null,
   "id": "d8bde690-9910-4bc5-b58c-bec9abac685c",
   "metadata": {},
   "outputs": [],
   "source": []
  },
  {
   "cell_type": "code",
   "execution_count": 21,
   "id": "b53c56dd-bf09-4ef9-b9eb-5f3e55be9752",
   "metadata": {},
   "outputs": [
    {
     "name": "stdout",
     "output_type": "stream",
     "text": [
      "Huffman Codes: {'f': '0', 'c': '100', 'd': '101', 'a': '1100', 'b': '1101', 'e': '111'}\n",
      "Encoded String: 110011011001011110\n",
      "Decoded String: abcdef\n"
     ]
    }
   ],
   "source": [
    "import heapq\n",
    "class node:\n",
    "    def __init__(self,char,value,left=None,right=None):\n",
    "        self.char=char\n",
    "        self.value=value\n",
    "        self.left=left\n",
    "        self.right=right\n",
    "    def __lt__(self,other):\n",
    "        return self.value<other.value\n",
    "def create_tree(character,values):\n",
    "    nodes=[]\n",
    "    for i in range(len(character)):\n",
    "        heapq.heappush(nodes,node(character[i],values[i]))\n",
    "    while len(nodes)>1:\n",
    "        left=heapq.heappop(nodes)\n",
    "        right=heapq.heappop(nodes)\n",
    "        new_node = node(None,left.value + right.value,left,right)\n",
    "        heapq.heappush(nodes,new_node)\n",
    "    return nodes[0]\n",
    "def huffcodes(node,current_codes=\"\",codes={}):\n",
    "    if node is None:\n",
    "        return\n",
    "    if node.char is not None:\n",
    "        codes[node.char]=current_codes\n",
    "    huffcodes(node.left,current_codes+'0',codes)\n",
    "    huffcodes(node.right,current_codes+'1',codes)\n",
    "    return codes\n",
    "def decode_huffman(root, encoded_string):\n",
    "    decoded_string = \"\"\n",
    "    current_node = root\n",
    "    for bit in encoded_string:\n",
    "        if bit == '0':\n",
    "            current_node = current_node.left\n",
    "        else:  # bit == '1'\n",
    "            current_node = current_node.right\n",
    "        \n",
    "        if current_node.char is not None:  # Found a character\n",
    "            decoded_string += current_node.char\n",
    "            current_node = root  # Go back to the root for the next character\n",
    "    \n",
    "    return decoded_string\n",
    "chars = ['a', 'b', 'c', 'd', 'e', 'f']\n",
    "frequencies = [5, 9, 12, 13, 16, 45]\n",
    "\n",
    "#create tree consist of chars and frequencies\n",
    "root = create_tree(chars, frequencies)\n",
    "\n",
    "# put every bit on each character\n",
    "codes = huffcodes(root)\n",
    "\n",
    "\n",
    "print(\"Huffman Codes:\", codes)\n",
    "\n",
    "#return each bit in characters\n",
    "encoded_string = ''.join([codes[char] for char in \"abcdef\"])\n",
    "print(\"Encoded String:\", encoded_string)\n",
    "\n",
    "\n",
    "decoded_string = decode_huffman(root, encoded_string)\n",
    "print(\"Decoded String:\", decoded_string)"
   ]
  },
  {
   "cell_type": "code",
   "execution_count": null,
   "id": "7b967d22-4892-4f1a-b091-43945f7986ea",
   "metadata": {},
   "outputs": [],
   "source": []
  }
 ],
 "metadata": {
  "kernelspec": {
   "display_name": "Python 3 (ipykernel)",
   "language": "python",
   "name": "python3"
  },
  "language_info": {
   "codemirror_mode": {
    "name": "ipython",
    "version": 3
   },
   "file_extension": ".py",
   "mimetype": "text/x-python",
   "name": "python",
   "nbconvert_exporter": "python",
   "pygments_lexer": "ipython3",
   "version": "3.12.4"
  }
 },
 "nbformat": 4,
 "nbformat_minor": 5
}
